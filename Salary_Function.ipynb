{
 "cells": [
  {
   "cell_type": "code",
   "execution_count": 6,
   "id": "024bb9d7",
   "metadata": {},
   "outputs": [
    {
     "name": "stderr",
     "output_type": "stream",
     "text": [
      "C:\\Users\\idehe\\AppData\\Local\\Temp\\ipykernel_2932\\2049896534.py:4: DtypeWarning: Columns (2,3,4,5) have mixed types. Specify dtype option on import or set low_memory=False.\n",
      "  salary_data = pd.read_csv('Total.csv')\n"
     ]
    },
    {
     "name": "stdout",
     "output_type": "stream",
     "text": [
      "<class 'pandas.core.frame.DataFrame'>\n",
      "RangeIndex: 312882 entries, 0 to 312881\n",
      "Data columns (total 9 columns):\n",
      " #   Column            Non-Null Count   Dtype  \n",
      "---  ------            --------------   -----  \n",
      " 0   EmployeeName      312882 non-null  object \n",
      " 1   JobTitle          312882 non-null  object \n",
      " 2   BasePay           312882 non-null  object \n",
      " 3   OvertimePay       312882 non-null  object \n",
      " 4   OtherPay          312882 non-null  object \n",
      " 5   Benefits          312882 non-null  object \n",
      " 6   TotalPay          312882 non-null  float64\n",
      " 7   TotalPayBenefits  312882 non-null  float64\n",
      " 8   Year              312882 non-null  int64  \n",
      "dtypes: float64(2), int64(1), object(6)\n",
      "memory usage: 21.5+ MB\n"
     ]
    },
    {
     "data": {
      "text/html": [
       "<div>\n",
       "<style scoped>\n",
       "    .dataframe tbody tr th:only-of-type {\n",
       "        vertical-align: middle;\n",
       "    }\n",
       "\n",
       "    .dataframe tbody tr th {\n",
       "        vertical-align: top;\n",
       "    }\n",
       "\n",
       "    .dataframe thead th {\n",
       "        text-align: right;\n",
       "    }\n",
       "</style>\n",
       "<table border=\"1\" class=\"dataframe\">\n",
       "  <thead>\n",
       "    <tr style=\"text-align: right;\">\n",
       "      <th></th>\n",
       "      <th>EmployeeName</th>\n",
       "      <th>JobTitle</th>\n",
       "      <th>BasePay</th>\n",
       "      <th>OvertimePay</th>\n",
       "      <th>OtherPay</th>\n",
       "      <th>Benefits</th>\n",
       "      <th>TotalPay</th>\n",
       "      <th>TotalPayBenefits</th>\n",
       "      <th>Year</th>\n",
       "    </tr>\n",
       "  </thead>\n",
       "  <tbody>\n",
       "    <tr>\n",
       "      <th>0</th>\n",
       "      <td>NATHANIEL FORD</td>\n",
       "      <td>GENERAL MANAGER-METROPOLITAN TRANSIT AUTHORITY</td>\n",
       "      <td>167411.18</td>\n",
       "      <td>0.0</td>\n",
       "      <td>400184.25</td>\n",
       "      <td>Not Provided</td>\n",
       "      <td>567595.43</td>\n",
       "      <td>567595.43</td>\n",
       "      <td>2011</td>\n",
       "    </tr>\n",
       "    <tr>\n",
       "      <th>1</th>\n",
       "      <td>GARY JIMENEZ</td>\n",
       "      <td>CAPTAIN III (POLICE DEPARTMENT)</td>\n",
       "      <td>155966.02</td>\n",
       "      <td>245131.88</td>\n",
       "      <td>137811.38</td>\n",
       "      <td>Not Provided</td>\n",
       "      <td>538909.28</td>\n",
       "      <td>538909.28</td>\n",
       "      <td>2011</td>\n",
       "    </tr>\n",
       "    <tr>\n",
       "      <th>2</th>\n",
       "      <td>ALBERT PARDINI</td>\n",
       "      <td>CAPTAIN III (POLICE DEPARTMENT)</td>\n",
       "      <td>212739.13</td>\n",
       "      <td>106088.18</td>\n",
       "      <td>16452.6</td>\n",
       "      <td>Not Provided</td>\n",
       "      <td>335279.91</td>\n",
       "      <td>335279.91</td>\n",
       "      <td>2011</td>\n",
       "    </tr>\n",
       "    <tr>\n",
       "      <th>3</th>\n",
       "      <td>CHRISTOPHER CHONG</td>\n",
       "      <td>WIRE ROPE CABLE MAINTENANCE MECHANIC</td>\n",
       "      <td>77916.0</td>\n",
       "      <td>56120.71</td>\n",
       "      <td>198306.9</td>\n",
       "      <td>Not Provided</td>\n",
       "      <td>332343.61</td>\n",
       "      <td>332343.61</td>\n",
       "      <td>2011</td>\n",
       "    </tr>\n",
       "    <tr>\n",
       "      <th>4</th>\n",
       "      <td>PATRICK GARDNER</td>\n",
       "      <td>DEPUTY CHIEF OF DEPARTMENT,(FIRE DEPARTMENT)</td>\n",
       "      <td>134401.6</td>\n",
       "      <td>9737.0</td>\n",
       "      <td>182234.59</td>\n",
       "      <td>Not Provided</td>\n",
       "      <td>326373.19</td>\n",
       "      <td>326373.19</td>\n",
       "      <td>2011</td>\n",
       "    </tr>\n",
       "  </tbody>\n",
       "</table>\n",
       "</div>"
      ],
      "text/plain": [
       "        EmployeeName                                        JobTitle  \\\n",
       "0     NATHANIEL FORD  GENERAL MANAGER-METROPOLITAN TRANSIT AUTHORITY   \n",
       "1       GARY JIMENEZ                 CAPTAIN III (POLICE DEPARTMENT)   \n",
       "2     ALBERT PARDINI                 CAPTAIN III (POLICE DEPARTMENT)   \n",
       "3  CHRISTOPHER CHONG            WIRE ROPE CABLE MAINTENANCE MECHANIC   \n",
       "4    PATRICK GARDNER    DEPUTY CHIEF OF DEPARTMENT,(FIRE DEPARTMENT)   \n",
       "\n",
       "     BasePay OvertimePay   OtherPay      Benefits   TotalPay  \\\n",
       "0  167411.18         0.0  400184.25  Not Provided  567595.43   \n",
       "1  155966.02   245131.88  137811.38  Not Provided  538909.28   \n",
       "2  212739.13   106088.18    16452.6  Not Provided  335279.91   \n",
       "3    77916.0    56120.71   198306.9  Not Provided  332343.61   \n",
       "4   134401.6      9737.0  182234.59  Not Provided  326373.19   \n",
       "\n",
       "   TotalPayBenefits  Year  \n",
       "0         567595.43  2011  \n",
       "1         538909.28  2011  \n",
       "2         335279.91  2011  \n",
       "3         332343.61  2011  \n",
       "4         326373.19  2011  "
      ]
     },
     "execution_count": 6,
     "metadata": {},
     "output_type": "execute_result"
    }
   ],
   "source": [
    "### 1. Import Data\n",
    "# Load the salary data\n",
    "import pandas as pd\n",
    "salary_data = pd.read_csv('Total.csv')\n",
    "salary_data.info()\n",
    "salary_data.head()"
   ]
  },
  {
   "cell_type": "code",
   "execution_count": 8,
   "id": "a556d8a1-ad43-4b9e-bddf-3db96b2a156d",
   "metadata": {},
   "outputs": [
    {
     "name": "stdout",
     "output_type": "stream",
     "text": [
      "Duplicate rows:\n",
      "Empty DataFrame\n",
      "Columns: [EmployeeName, JobTitle, BasePay, OvertimePay, OtherPay, Benefits, TotalPay, TotalPayBenefits, Year]\n",
      "Index: []\n"
     ]
    }
   ],
   "source": [
    "# Check for duplicate rows\n",
    "duplicate_rows = salary_data[salary_data.duplicated()]\n",
    "\n",
    "# Print the duplicate rows\n",
    "print(\"Duplicate rows:\")\n",
    "print(duplicate_rows)"
   ]
  },
  {
   "cell_type": "code",
   "execution_count": 10,
   "id": "dba7640a-1dff-4d55-a9e3-518c154c4939",
   "metadata": {},
   "outputs": [
    {
     "name": "stdout",
     "output_type": "stream",
     "text": [
      "Is the 'EmployeeName' column unique? False\n",
      "Duplicate names:\n",
      "43          MICHAEL THOMPSON\n",
      "359              JOHN MURPHY\n",
      "435        WILLIAM MCFARLAND\n",
      "847              SANDRA TONG\n",
      "864              WILLIAM LEE\n",
      "                 ...        \n",
      "312877       Daniel W Plautz\n",
      "312878      David J Thompson\n",
      "312879    Keiko Weng Yee Lau\n",
      "312880            David Wong\n",
      "312881       Debora E Howard\n",
      "Name: EmployeeName, Length: 182599, dtype: object\n"
     ]
    }
   ],
   "source": [
    "# Check if the 'EmployeeName' column is unique\n",
    "is_name_unique = salary_data['EmployeeName'].is_unique\n",
    "print(f\"Is the 'EmployeeName' column unique? {is_name_unique}\")\n",
    "\n",
    "# Find and print duplicate names if any\n",
    "if not is_name_unique:\n",
    "    \n",
    "    duplicate_names = salary_data['EmployeeName'][salary_data['EmployeeName'].duplicated()]\n",
    "    print(\"Duplicate names:\")\n",
    "    print(duplicate_names)"
   ]
  },
  {
   "cell_type": "code",
   "execution_count": 12,
   "id": "9f60cced-b7f8-4add-a412-7d132f196b8f",
   "metadata": {},
   "outputs": [
    {
     "name": "stdout",
     "output_type": "stream",
     "text": [
      "{'EmployeeName': 'CHRISTOPHER CHONG', 'JobTitle': 'WIRE ROPE CABLE MAINTENANCE MECHANIC', 'BasePay': 77916.0, 'OvertimePay': 56120.71, 'OtherPay': 198306.9, 'Benefits': 'Not Provided', 'TotalPay': 332343.61, 'TotalPayBenefits': 332343.61, 'Year': 2011}\n"
     ]
    }
   ],
   "source": [
    "### 2. Create Employee Function\n",
    "##Develop a Python function to accept an employee’s name and return their details.\n",
    "def get_employee_details(name):\n",
    "    try:\n",
    "        employee = salary_data[salary_data['EmployeeName'] == name].to_dict(orient='records')\n",
    "        if employee:\n",
    "            return employee[0]  # Return the first matching employee record\n",
    "        else:\n",
    "            return f\"Employee named {name} not found.\"\n",
    "    except Exception as e:\n",
    "        return f\"An error occurred: {e}\"\n",
    "print(get_employee_details('CHRISTOPHER CHONG'))"
   ]
  },
  {
   "cell_type": "code",
   "execution_count": 14,
   "id": "ed0f20f2-b862-45b1-a6d7-39fce24de1ea",
   "metadata": {},
   "outputs": [
    {
     "name": "stdout",
     "output_type": "stream",
     "text": [
      "Employee: EmployeeName\n",
      "[{'EmployeeName': 'A BERNARD FATOOH', 'JobTitle': \"SHERIFF'S PROPERTY KEEPER\", 'BasePay': 19969.37, 'OvertimePay': 0.0, 'OtherPay': 70.54, 'Benefits': 'Not Provided', 'TotalPay': 20039.91, 'TotalPayBenefits': 20039.91, 'Year': 2011}]\n",
      "\n",
      "Employee: EmployeeName\n",
      "[{'EmployeeName': 'A Bernard  Fatooh', 'JobTitle': \"Sheriff's Property Keeper\", 'BasePay': '23908.50', 'OvertimePay': 0.0, 'OtherPay': 15.12, 'Benefits': 5455.62, 'TotalPay': 23923.62, 'TotalPayBenefits': 29379.24, 'Year': 2013}]\n",
      "\n",
      "Employee: EmployeeName\n",
      "[{'EmployeeName': 'A Bernard Fatooh', 'JobTitle': \"Sheriff's Property Keeper\", 'BasePay': '18472.35', 'OvertimePay': 0.0, 'OtherPay': 27.84, 'Benefits': 5014.66, 'TotalPay': 18500.19, 'TotalPayBenefits': 23514.85, 'Year': 2012}, {'EmployeeName': 'A Bernard Fatooh', 'JobTitle': \"Sheriff's Property Keeper\", 'BasePay': 24061.35, 'OvertimePay': 0.0, 'OtherPay': 0.0, 'Benefits': 6091.68, 'TotalPay': 24061.35, 'TotalPayBenefits': 30153.03, 'Year': 2014}, {'EmployeeName': 'A Bernard Fatooh', 'JobTitle': \"Sheriff's Property Keeper\", 'BasePay': 26896.89, 'OvertimePay': 0.0, 'OtherPay': 0.0, 'Benefits': 6466.82, 'TotalPay': 26896.89, 'TotalPayBenefits': 33363.71, 'Year': 2015}, {'EmployeeName': 'A Bernard Fatooh', 'JobTitle': \"Sheriff's Property Keeper\", 'BasePay': '25896.17', 'OvertimePay': '0.00', 'OtherPay': '0.00', 'Benefits': '11698.73', 'TotalPay': 25896.17, 'TotalPayBenefits': 37594.9, 'Year': 2016}, {'EmployeeName': 'A Bernard Fatooh', 'JobTitle': \"Sheriff's Property Keeper\", 'BasePay': 29525.24, 'OvertimePay': 0.0, 'OtherPay': 0.0, 'Benefits': 6713.17, 'TotalPay': 29525.24, 'TotalPayBenefits': 36238.41, 'Year': 2017}, {'EmployeeName': 'A Bernard Fatooh', 'JobTitle': \"Sheriff's Property Keeper\", 'BasePay': 25232.9, 'OvertimePay': 0.0, 'OtherPay': 0.0, 'Benefits': 6037.79, 'TotalPay': 25232.9, 'TotalPayBenefits': 31270.69, 'Year': 2018}]\n",
      "\n",
      "Employee: EmployeeName\n",
      "[{'EmployeeName': 'A ELIZABETH MARCHASIN', 'JobTitle': 'PRINCIPAL CLERK', 'BasePay': 23591.8, 'OvertimePay': 0.0, 'OtherPay': 2691.06, 'Benefits': 'Not Provided', 'TotalPay': 26282.86, 'TotalPayBenefits': 26282.86, 'Year': 2011}]\n",
      "\n",
      "Employee: EmployeeName\n",
      "[{'EmployeeName': 'A JAMIL NIAZI', 'JobTitle': 'IS ENGINEER - PRINCIPAL', 'BasePay': 69058.19, 'OvertimePay': 0.0, 'OtherPay': 18438.02, 'Benefits': 'Not Provided', 'TotalPay': 87496.21, 'TotalPayBenefits': 87496.21, 'Year': 2011}]\n",
      "\n"
     ]
    }
   ],
   "source": [
    "### 3. Data Processing with Dictionary\n",
    "## Process the salary data using a Python dictionary and print the first 5 results.\n",
    "\n",
    "# The 'EmployeeName' Column isn't unique\n",
    "\n",
    "# Group the salary data by 'EmployeeName'\n",
    "salary_groups = salary_data.groupby('EmployeeName')\n",
    "# Process each group into a dictionary\n",
    "salary_dict = {name: group.to_dict(orient='records') for name, group in salary_groups}\n",
    "\n",
    "# Print the first 5 resulting dictionary\n",
    "for i, (name, details) in enumerate(salary_dict.items()):\n",
    "    if i<5:\n",
    "        print(f\"Employee: {'EmployeeName'}\")\n",
    "        print(details)\n",
    "        print()\n",
    "    else:\n",
    "        break"
   ]
  },
  {
   "cell_type": "code",
   "execution_count": 16,
   "id": "d8519268-8f8f-45a7-a389-bc6555c8d356",
   "metadata": {},
   "outputs": [
    {
     "name": "stdout",
     "output_type": "stream",
     "text": [
      "ValueError: The name must be a string.\n",
      "Employee named idehen eric not found.\n",
      "{'EmployeeName': 'CHRISTOPHER CHONG', 'JobTitle': 'WIRE ROPE CABLE MAINTENANCE MECHANIC', 'BasePay': 77916.0, 'OvertimePay': 56120.71, 'OtherPay': 198306.9, 'Benefits': 'Not Provided', 'TotalPay': 332343.61, 'TotalPayBenefits': 332343.61, 'Year': 2011}\n"
     ]
    }
   ],
   "source": [
    "### 4. Error Handling\n",
    "##Implement error handling to address potential issues gracefully.\n",
    "\n",
    "def address_employee_details(name):\n",
    "    try:\n",
    "        if not isinstance(name, str):\n",
    "            raise ValueError(\"The name must be a string.\")\n",
    "        employee = get_employee_details(name)\n",
    "        return employee\n",
    "    except ValueError as ve:\n",
    "        return f\"ValueError: {ve}\"\n",
    "    except Exception as e:\n",
    "        return f\"An unexpected error occurred: {e}\"\n",
    "\n",
    "# Example usage\n",
    "print(address_employee_details(12345))\n",
    "print(address_employee_details('idehen eric'))\n",
    "print(address_employee_details('CHRISTOPHER CHONG'))"
   ]
  },
  {
   "cell_type": "code",
   "execution_count": 18,
   "id": "0097af8d-39ed-43d9-82dc-6ce38b85cb41",
   "metadata": {},
   "outputs": [
    {
     "name": "stdout",
     "output_type": "stream",
     "text": [
      "None\n"
     ]
    }
   ],
   "source": [
    "### 5. Export Employee Details\n",
    "## Export an employee's details to a CSV file and zip it into a folder named \"Employee Profile.\"\n",
    "\n",
    "import os\n",
    "import csv\n",
    "import zipfile\n",
    "\n",
    "def export_employee_details(EmployeeName):\n",
    "    employee = get_employee_details(EmployeeName)\n",
    "    if isinstance(employee, str):\n",
    "        print(employee)\n",
    "        return\n",
    "\n",
    "    if not os.path.exists('Employee Profile'):\n",
    "        os.makedirs('Employee Profile')\n",
    "\n",
    "    file_path = f\"Employee_Profile/{'CHRISTOPHER_CHONG'}_details.csv\"\n",
    "    with open(file_path, mode='w', newline='') as file:\n",
    "        writer = csv.DictWriter(file, fieldnames=employee.keys())\n",
    "        writer.writeheader()\n",
    "        writer.writerow(employee)\n",
    "    \n",
    "    with zipfile.ZipFile('Employee_Profile.zip', 'w') as zipf:\n",
    "        zipf.write(file_path, os.path.basename(file_path))\n",
    "\n",
    "# Example usage\n",
    "export_employee_details('CHRISTOPHER CHONG')\n",
    "print(export_employee_details('CHRISTOPHER CHONG'))"
   ]
  }
 ],
 "metadata": {
  "kernelspec": {
   "display_name": "Python 3 (ipykernel)",
   "language": "python",
   "name": "python3"
  },
  "language_info": {
   "codemirror_mode": {
    "name": "ipython",
    "version": 3
   },
   "file_extension": ".py",
   "mimetype": "text/x-python",
   "name": "python",
   "nbconvert_exporter": "python",
   "pygments_lexer": "ipython3",
   "version": "3.12.4"
  }
 },
 "nbformat": 4,
 "nbformat_minor": 5
}
